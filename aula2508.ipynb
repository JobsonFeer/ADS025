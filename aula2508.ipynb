{
  "nbformat": 4,
  "nbformat_minor": 0,
  "metadata": {
    "colab": {
      "name": "aula2508.ipynb",
      "provenance": [],
      "authorship_tag": "ABX9TyM/a08k/kkcXhKPgzICnCfC",
      "include_colab_link": true
    },
    "kernelspec": {
      "name": "python3",
      "display_name": "Python 3"
    }
  },
  "cells": [
    {
      "cell_type": "markdown",
      "metadata": {
        "id": "view-in-github",
        "colab_type": "text"
      },
      "source": [
        "<a href=\"https://colab.research.google.com/github/JobsonFeer/ADS025/blob/master/aula2508.ipynb\" target=\"_parent\"><img src=\"https://colab.research.google.com/assets/colab-badge.svg\" alt=\"Open In Colab\"/></a>"
      ]
    },
    {
      "cell_type": "code",
      "metadata": {
        "id": "HSXroAyHSm7w",
        "colab_type": "code",
        "colab": {
          "base_uri": "https://localhost:8080/",
          "height": 86
        },
        "outputId": "3f8e3eea-b4e9-4e13-e58a-e08dbf43e324"
      },
      "source": [
        "x = 50 / 11\n",
        "print (x)\n",
        "print (type (x))\n",
        "x = 'Olá'\n",
        "print (x)\n",
        "print (type (x))"
      ],
      "execution_count": 12,
      "outputs": [
        {
          "output_type": "stream",
          "text": [
            "4.545454545454546\n",
            "<class 'float'>\n",
            "Olá\n",
            "<class 'str'>\n"
          ],
          "name": "stdout"
        }
      ]
    },
    {
      "cell_type": "code",
      "metadata": {
        "id": "geQXjnBdFZmk",
        "colab_type": "code",
        "colab": {
          "base_uri": "https://localhost:8080/",
          "height": 34
        },
        "outputId": "433d8f55-e4b2-48d3-c29b-b07049e0608c"
      },
      "source": [
        "NT = 60 \n",
        "NP1 = 10 * (0.3 + 0.07 * NT)\n",
        "print (NP1)"
      ],
      "execution_count": 16,
      "outputs": [
        {
          "output_type": "stream",
          "text": [
            "45.0\n"
          ],
          "name": "stdout"
        }
      ]
    },
    {
      "cell_type": "code",
      "metadata": {
        "id": "jepgsYfhHiIS",
        "colab_type": "code",
        "colab": {
          "base_uri": "https://localhost:8080/",
          "height": 52
        },
        "outputId": "020d2a28-3b00-403d-be8f-e8fdb70e46c8"
      },
      "source": [
        "# Como contar palavras de um texto (Contador de palavras):\n",
        "MeuTexto = ' Caros alunos, Esse é o espaço para postar as duvidas herais'\n",
        "print(MeuTexto.split())\n",
        "print(len(MeuTexto.split()))"
      ],
      "execution_count": 19,
      "outputs": [
        {
          "output_type": "stream",
          "text": [
            "['Caros', 'alunos,', 'Esse', 'é', 'o', 'espaço', 'para', 'postar', 'as', 'duvidas', 'herais']\n",
            "11\n"
          ],
          "name": "stdout"
        }
      ]
    },
    {
      "cell_type": "code",
      "metadata": {
        "id": "nAud_x8yV0L4",
        "colab_type": "code",
        "colab": {
          "base_uri": "https://localhost:8080/",
          "height": 34
        },
        "outputId": "c40568f7-ae3b-408c-8795-fee7446f67d7"
      },
      "source": [
        "Carros = 'Os carros que tive são: {}, {}, {}, {} e {}.'\n",
        "Carro0 = 'Ka'\n",
        "Carro1 = 'Gol'\n",
        "Carro2 = 'Sentra'\n",
        "Carro3 = 'Bravo'\n",
        "Carro4 = 'Virtus'\n",
        "print(Carros.format(Carro0, Carro1,Carro2, Carro3, Carro4))"
      ],
      "execution_count": 22,
      "outputs": [
        {
          "output_type": "stream",
          "text": [
            "Os carros que tive são: Ka, Gol, Sentra, Bravo e Virtus.\n"
          ],
          "name": "stdout"
        }
      ]
    }
  ]
}